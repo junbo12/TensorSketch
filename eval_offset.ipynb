{
 "cells": [
  {
   "cell_type": "code",
   "execution_count": null,
   "metadata": {},
   "outputs": [],
   "source": [
    "import seaborn as sns\n",
    "import csv\n",
    "import pandas as pd\n",
    "import os\n",
    "import openpyxl\n",
    "import matplotlib.pyplot as plt\n",
    "import datetime"
   ]
  },
  {
   "cell_type": "code",
   "execution_count": null,
   "metadata": {},
   "outputs": [],
   "source": [
    "#distance, true_distance, correct, is_in_pool, read_offset, matched_offset, true_offset\n",
    "def get_offset(filepath,filename):\n",
    "    filepath = '{}/{}'.format(filepath, filename)\n",
    "    with open(filepath,'r') as f:\n",
    "\n",
    "        reader = csv.reader(f)\n",
    "        l = [row for row in reader]\n",
    "        \n",
    "        data = [[float(el) for el in row] for row in l[1:]]\n",
    "        avg_dist_correct = 0\n",
    "        avg_dist_wrong = 0\n",
    "        avg_offset_diff = 0\n",
    "        dist_correct_list = []\n",
    "        dist_wrong_list = []\n",
    "        true_dist_correct = []\n",
    "        true_dist_wrong = []\n",
    "        offset_diff_list = []\n",
    "        correct_num = 0\n",
    "        wrong_num = 0\n",
    "        for row in data:\n",
    "            dist = row[0]\n",
    "            true_dist = row[1]\n",
    "            correct = row[2]\n",
    "            if correct:\n",
    "                correct_num +=1\n",
    "                diff = abs(int(row[5])-int(row[6]))\n",
    "                avg_offset_diff += diff\n",
    "                avg_dist_correct += dist\n",
    "                dist_correct_list.append(dist)\n",
    "                offset_diff_list.append(diff)\n",
    "                true_dist_correct.append(true_dist)\n",
    "            else:\n",
    "                wrong_num +=1\n",
    "                avg_dist_wrong += dist\n",
    "                dist_wrong_list.append(dist)\n",
    "                true_dist_wrong.append(true_dist)\n",
    "\n",
    "        return avg_offset_diff/correct_num, avg_dist_correct/correct_num, avg_dist_wrong/wrong_num, offset_diff_list, dist_correct_list, dist_wrong_list, true_dist_correct, true_dist_wrong"
   ]
  },
  {
   "cell_type": "code",
   "execution_count": null,
   "metadata": {},
   "outputs": [],
   "source": [
    "data = {}\n",
    "data2 = {}\n",
    "filepath = 'scratch/out'\n",
    "filename = 'ts_annoy_{}.csv'.format(8)\n",
    "_,_,_, offset_l, dist_corr_l, dist_wron_l, true_dist_corr, true_dist_wrong = get_offset(filepath, filename)\n",
    "offset_l = [el for el in offset_l if el < 1000]\n",
    "df_offset = pd.DataFrame(offset_l,columns=['offset_diff'])\n",
    "data['correct'] = dist_corr_l\n",
    "data['wrong'] = dist_wron_l\n",
    "data2['correct'] = dist_corr_l\n",
    "data2['wrong'] = dist_wron_l\n",
    "data2['true correct'] = true_dist_corr\n",
    "data2['true wrong'] = true_dist_wrong\n",
    "\n",
    "sns.boxplot(data=df_offset,x='offset_diff')\n"
   ]
  },
  {
   "cell_type": "code",
   "execution_count": null,
   "metadata": {},
   "outputs": [],
   "source": [
    "sns.violinplot(data=data)"
   ]
  }
 ],
 "metadata": {
  "kernelspec": {
   "display_name": ".venv",
   "language": "python",
   "name": "python3"
  },
  "language_info": {
   "name": "python",
   "version": "3.9.19"
  }
 },
 "nbformat": 4,
 "nbformat_minor": 2
}
