{
 "cells": [
  {
   "cell_type": "code",
   "execution_count": null,
   "metadata": {
    "vscode": {
     "languageId": "plaintext"
    }
   },
   "outputs": [],
   "source": [
    "from Bio import SeqIO\n",
    "from Bio.Seq import Seq,reverse_complement\n",
    "from Bio.SeqRecord import SeqRecord"
   ]
  },
  {
   "cell_type": "code",
   "execution_count": null,
   "metadata": {
    "vscode": {
     "languageId": "plaintext"
    }
   },
   "outputs": [],
   "source": [
    "\n",
    "filepath = \"scratch/data/Refs.fasta\"\n",
    "output = \"scratch/data/Refs_complete.fasta\"\n",
    "seqrec_list = []\n",
    "for r in SeqIO.parse(filepath, \"fasta\"):\n",
    "    seqrec_list.append(SeqRecord(r.seq,id=r.id,description=''))\n",
    "    seqrec_list.append(SeqRecord(r.seq.complement(),id=r.id,description=''))\n",
    "    \n",
    "\n",
    "count_ref = SeqIO.write(seqrec_list, output, 'fasta-2line')\n",
    "print(\"Saved %i random records from %s to %s\" % (count_ref, filepath, output))"
   ]
  },
  {
   "cell_type": "code",
   "execution_count": null,
   "metadata": {
    "vscode": {
     "languageId": "plaintext"
    }
   },
   "outputs": [],
   "source": [
    "\n",
    "filepath = \"scratch/data/Refs.fasta\"\n",
    "output = \"scratch/data/Refs_positive.fasta\"\n",
    "seqrec_list = []\n",
    "for r in SeqIO.parse(filepath, \"fasta\"):\n",
    "    seqrec_list.append(SeqRecord(r.seq,id=r.id,description=''))\n",
    "    \n",
    "    \n",
    "\n",
    "count_ref = SeqIO.write(seqrec_list, output, 'fasta-2line')\n",
    "print(\"Saved %i random records from %s to %s\" % (count_ref, filepath, output))"
   ]
  },
  {
   "cell_type": "code",
   "execution_count": null,
   "metadata": {
    "vscode": {
     "languageId": "plaintext"
    }
   },
   "outputs": [],
   "source": [
    "\n",
    "filepath = \"scratch/data/Sigs.fasta\"\n",
    "output = \"scratch/data/Sigs_positive.fasta\"\n",
    "seqrec_list = []\n",
    "#S1_45!NC_004719.1:74975-75374!0!400!+@45[194]\n",
    "#S1_349!tig00000306!118409!118719!+\n",
    "\n",
    "def new_query_header(id):\n",
    "    tmp = id.split('!')\n",
    "    new_id =  tmp[0] + '!' + tmp[1] + ':' + tmp[2] + '-' + tmp[3]\n",
    "    return new_id, tmp[4]=='+'\n",
    "\n",
    "def split_query_header(header: str):\n",
    "        substr1 = header.split('!')[1]\n",
    "        tokens = substr1.split(':')\n",
    "        ref_name = tokens[0]\n",
    "        start = int(tokens[1].split('-')[0])\n",
    "        return ref_name, start\n",
    "\n",
    "for r in SeqIO.parse(filepath, \"fasta\"):\n",
    "    new_id,positive = new_query_header(r.id)\n",
    "    if(positive):\n",
    "        seqrec_list.append(SeqRecord(r.seq,id=new_id,description=''))\n",
    "    \n",
    "\n",
    "count_ref = SeqIO.write(seqrec_list, output, 'fasta-2line')\n",
    "print(\"Saved %i random records from %s to %s\" % (count_ref, filepath, output))\n",
    "\n"
   ]
  }
 ],
 "metadata": {
  "language_info": {
   "name": "python"
  }
 },
 "nbformat": 4,
 "nbformat_minor": 2
}
