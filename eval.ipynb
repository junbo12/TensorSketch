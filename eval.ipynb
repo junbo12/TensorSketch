{
 "cells": [
  {
   "cell_type": "code",
   "execution_count": 1,
   "metadata": {},
   "outputs": [],
   "source": [
    "import seaborn as sns\n",
    "import csv\n",
    "import pandas as pd\n",
    "import os\n",
    "import openpyxl\n",
    "import matplotlib.pyplot as plt\n",
    "import datetime\n"
   ]
  },
  {
   "cell_type": "code",
   "execution_count": 7,
   "metadata": {},
   "outputs": [],
   "source": [
    "def get_eval(file_path, file_name) -> pd.DataFrame:\n",
    "    filepath = '{}/{}'.format(file_path, file_name)\n",
    "    \n",
    "    with open(filepath,'r') as f:\n",
    "\n",
    "        reader = csv.reader(f)\n",
    "        l = [row for row in reader]\n",
    "        windows = l[0]\n",
    "        strides = l[1]\n",
    "        df = pd.DataFrame(l[2:], index = windows, columns = strides)\n",
    "        return df"
   ]
  },
  {
   "cell_type": "code",
   "execution_count": 10,
   "metadata": {},
   "outputs": [],
   "source": [
    "subseq_len = 8\n",
    "filepath = 'scratch/eval'\n",
    "filename = 'annoy_{}.csv'.format(subseq_len)\n",
    "df = get_eval(filepath, filename)"
   ]
  },
  {
   "cell_type": "code",
   "execution_count": 16,
   "metadata": {},
   "outputs": [
    {
     "name": "stdout",
     "output_type": "stream",
     "text": [
      "Index(['100', '120'], dtype='object')\n"
     ]
    }
   ],
   "source": [
    "sns.lineplot()"
   ]
  },
  {
   "cell_type": "code",
   "execution_count": null,
   "metadata": {},
   "outputs": [],
   "source": [
    "#sketch_dim, kmer_len, window, stride, fpr, foundr, vectorizing_time build_time, query_time\n",
    "def get_df(filepath, filename):\n",
    "    filepath = '{}/{}'.format(filepath, filename)\n",
    "    \n",
    "    df = pd.read_csv(filepath,names=['sketch_dim','kmer','window','stride','fpr','missr','vectorizing_time','build_time','query_time'])\n",
    "   \n",
    "    return df.sort_values(by=['sketch_dim','kmer','window','stride']).reset_index(drop=True)"
   ]
  },
  {
   "cell_type": "code",
   "execution_count": null,
   "metadata": {},
   "outputs": [],
   "source": [
    "def df_to_excel(df, file_path, excel_name, sheet_name, header ='', row = 0, col = 0):\n",
    "        filepath = '{}/{}.xlsx'.format(file_path, excel_name)\n",
    "        first_time = False\n",
    "        \n",
    "        if not os.path.isfile(filepath):\n",
    "            df_empty = pd.DataFrame()\n",
    "            df_empty.to_excel(filepath)\n",
    "            first_time = True\n",
    "            \n",
    "        workbook = openpyxl.load_workbook(filepath)\n",
    "        \n",
    "        if first_time and not (sheet_name in workbook.sheetnames):\n",
    "            ex_sheet = workbook['Sheet1']\n",
    "            ex_sheet.title = sheet_name\n",
    "            workbook.save(filepath)\n",
    "        workbook.close()\n",
    "        \n",
    "        with pd.ExcelWriter(filepath, engine='openpyxl', mode='a', if_sheet_exists='overlay') as writer: \n",
    "            df.to_excel(writer, sheet_name=sheet_name, startrow = row, startcol = col)\n",
    "            workbook = writer.book\n",
    "            worksheet = workbook[sheet_name]\n",
    "            worksheet.cell(row=row+1, column = col+1).value = header\n",
    "            workbook.save(filepath)\n",
    "            workbook.close()"
   ]
  },
  {
   "cell_type": "code",
   "execution_count": null,
   "metadata": {},
   "outputs": [],
   "source": [
    "def write_to_excel(filepath, excel_name, df):\n",
    "    def format_time(num):\n",
    "        tmp = str(datetime.timedelta(seconds=round(num,2))).split('.')\n",
    "        print(num)\n",
    "        return tmp[0]+ '.' + tmp[1][:2]\n",
    "\n",
    "    df_group = df.groupby(['sketch_dim','kmer'])\n",
    "    \n",
    "    offset=0\n",
    "    check_key = -1\n",
    "    for key, table in df_group:\n",
    "        sketch_dim = key[0]\n",
    "        if check_key != sketch_dim:\n",
    "            offset = 0\n",
    "        kmer = key[1]\n",
    "        #table['vectorizing_time'] = table['vectorizing_time'].apply(lambda num: str(datetime.timedelta(seconds=round(num,2))))\n",
    "        table['build_time'] = table['build_time'].apply(lambda num: str(datetime.timedelta(seconds=round(num,2))))\n",
    "        table['query_time'] = table['query_time'].apply(lambda num: str(datetime.timedelta(seconds=round(num,2))))\n",
    "        df_table = table.pivot(index='window',columns='stride',values='fpr')\n",
    "        #df_vec = table.pivot(index='window',columns='stride',values='vectorizing_time')\n",
    "        df_build = table.pivot(index='window',columns='stride',values='build_time')\n",
    "        df_query = table.pivot(index='window',columns='stride',values='query_time')\n",
    "        row_num, col_num = df_table.shape\n",
    "        df_to_excel(df_table, filepath, excel_name=excel_name,sheet_name=str(sketch_dim), header='t={}'.format(kmer),row=offset)  \n",
    "        #df_to_excel(df_vec, filepath, excel_name=excel_name,sheet_name=str(sketch_dim), header='vec_time'.format(kmer),row=offset,col = col_num + 1) \n",
    "        df_to_excel(df_build, filepath, excel_name=excel_name,sheet_name=str(sketch_dim), header='build_time'.format(kmer),row=offset, col = 2*(col_num + 1)) \n",
    "        df_to_excel(df_query, filepath, excel_name=excel_name,sheet_name=str(sketch_dim), header='query_time'.format(kmer),row=offset, col = 3*(col_num + 1)) \n",
    "        offset+=row_num\n",
    "        check_key = sketch_dim"
   ]
  },
  {
   "cell_type": "code",
   "execution_count": null,
   "metadata": {},
   "outputs": [],
   "source": [
    "k_search = ''\n",
    "index_type = 'annoy'\n",
    "vectorizer = 'tensor_sketch'\n",
    "filepath = 'eval'\n",
    "filename = '{}_{}_{}nns.csv'.format(index_type, vectorizer,k_search)\n",
    "df_all = get_df(filepath, filename)"
   ]
  },
  {
   "cell_type": "code",
   "execution_count": null,
   "metadata": {},
   "outputs": [],
   "source": [
    "window = 40\n",
    "df_selec = df_all.loc[(df_all['window'] == window)].reset_index()\n",
    "print(df_selec)\n",
    "sns.lineplot(data=df_selec,x='stride',y='vectorizing_time',hue='kmer',linewidth=2.0).set_title('vec_time for 256')"
   ]
  },
  {
   "cell_type": "code",
   "execution_count": null,
   "metadata": {},
   "outputs": [],
   "source": [
    "sns.lineplot(data=df_selec,x='stride',y='build_time',hue='kmer',linewidth=2.0).set_title('build_time for 256')"
   ]
  },
  {
   "cell_type": "code",
   "execution_count": null,
   "metadata": {},
   "outputs": [],
   "source": [
    "sns.lineplot(data=df_selec,x='stride',y='query_time',hue='kmer',linewidth=2.0).set_title('query_time for 256')"
   ]
  }
 ],
 "metadata": {
  "kernelspec": {
   "display_name": ".venv",
   "language": "python",
   "name": "python3"
  },
  "language_info": {
   "codemirror_mode": {
    "name": "ipython",
    "version": 3
   },
   "file_extension": ".py",
   "mimetype": "text/x-python",
   "name": "python",
   "nbconvert_exporter": "python",
   "pygments_lexer": "ipython3",
   "version": "3.9.19"
  }
 },
 "nbformat": 4,
 "nbformat_minor": 2
}
